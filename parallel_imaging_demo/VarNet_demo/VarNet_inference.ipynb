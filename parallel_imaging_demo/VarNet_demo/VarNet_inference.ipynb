{
 "cells": [
  {
   "cell_type": "code",
   "execution_count": 1,
   "id": "3299b0b7-5a27-4b41-8549-5e5527087706",
   "metadata": {},
   "outputs": [],
   "source": [
    "import fastmri\n",
    "import torch\n",
    "import numpy as np\n",
    "from fastmri.data.mri_data import SliceDataset\n",
    "from fastmri.models import VarNet\n",
    "from fastmri.data.subsample import RandomMaskFunc,EquiSpacedMaskFunc,EquispacedMaskFractionFunc\n",
    "from fastmri.data import transforms as T\n",
    "from torch.utils.data import DataLoader\n",
    "from tqdm import tqdm\n",
    "from torchmetrics.functional import structural_similarity_index_measure as SSIM\n",
    "from torchmetrics.functional import peak_signal_noise_ratio as PSNR\n",
    "\n",
    "## fastmri dataset\n",
    "dataset = SliceDataset(root='/data3/M4Raw/multicoil_val',challenge='multicoil',\n",
    "                       transform=T.VarNetDataTransform(EquispacedMaskFractionFunc(center_fractions=[0.1171875], accelerations=[2])))\n",
    "val_loader = DataLoader(dataset, batch_size=1, shuffle=False,\n",
    "                            num_workers=4,drop_last=False,pin_memory=True)"
   ]
  },
  {
   "cell_type": "code",
   "execution_count": 4,
   "id": "ed81e4c3-5d41-4a0a-aeb6-e3e242060aec",
   "metadata": {},
   "outputs": [
    {
     "name": "stdout",
     "output_type": "stream",
     "text": [
      "torch.Size([4, 256, 256, 2])\n",
      "torch.Size([1, 1, 256, 1])\n",
      "30\n",
      "torch.Size([256, 256])\n",
      "2022061203_FLAIR01.h5\n",
      "0\n",
      "()\n",
      "(256, 256)\n"
     ]
    }
   ],
   "source": [
    "d = dataset[0]\n",
    "for i in d:\n",
    "    try:\n",
    "        print(i.shape)\n",
    "    except:\n",
    "        print(i)"
   ]
  },
  {
   "cell_type": "code",
   "execution_count": 4,
   "id": "f98a9d2e-0297-47ee-a7c0-42f347e3f060",
   "metadata": {},
   "outputs": [
    {
     "name": "stderr",
     "output_type": "stream",
     "text": [
      "  0%|          | 0/1620 [00:00<?, ?it/s]/home/jupyter-meilifeng/.conda/envs/SMS/lib/python3.9/site-packages/fastmri-0.0.0-py3.9.egg/fastmri/models/varnet.py:196: UserWarning: __floordiv__ is deprecated, and its behavior will change in a future version of pytorch. It currently rounds toward 0 (like the 'trunc' function NOT 'floor'). This results in incorrect rounding for negative values. To keep the current behavior, use torch.div(a, b, rounding_mode='trunc'), or for actual floor division, use torch.div(a, b, rounding_mode='floor').\n",
      "100%|██████████| 1620/1620 [01:46<00:00, 15.23it/s]\n"
     ]
    },
    {
     "name": "stdout",
     "output_type": "stream",
     "text": [
      "SSIM:86.07\n",
      "PSNR:34.8\n"
     ]
    }
   ],
   "source": [
    "ssim_list = []\n",
    "psnr_list = []\n",
    "\n",
    "## build model load weight\n",
    "model = VarNet(num_cascades=12,sens_chans=8,sens_pools=4,chans=18,pools=4).cuda()\n",
    "checkpoint = torch.load('./ckpt/varnet_M4Raw_init_v1.ckpt')[\"state_dict\"]\n",
    "checkpoint = {k.replace(\"varnet.\", \"\",1): v for k, v in checkpoint.items()}\n",
    "del checkpoint[\"loss.w\"]\n",
    "model.load_state_dict(checkpoint, strict=True)\n",
    "del checkpoint\n",
    "model.eval()\n",
    "## inference\n",
    "for index,d in enumerate(tqdm(val_loader)):\n",
    "    with torch.no_grad():\n",
    "        pre = model(d[0].cuda(),d[1].cuda(),num_low_frequencies=d[2].cuda())\n",
    "        ssim_list.append(SSIM(pre.unsqueeze(0),d[3].unsqueeze(0).cuda(),data_range = d[-2].cuda()).item())## \n",
    "        psnr_list.append(PSNR(pre.unsqueeze(0),d[3].unsqueeze(0).cuda(),data_range = d[-2].cuda()).item())\n",
    "        \n",
    "print(f'SSIM:{round(sum(ssim_list)/len(ssim_list),2)}\\nPSNR:{round(sum(psnr_list)/len(psnr_list),2)}')"
   ]
  }
 ],
 "metadata": {
  "kernelspec": {
   "display_name": "SMS",
   "language": "python",
   "name": "sms"
  },
  "language_info": {
   "codemirror_mode": {
    "name": "ipython",
    "version": 3
   },
   "file_extension": ".py",
   "mimetype": "text/x-python",
   "name": "python",
   "nbconvert_exporter": "python",
   "pygments_lexer": "ipython3",
   "version": "3.9.13"
  }
 },
 "nbformat": 4,
 "nbformat_minor": 5
}
